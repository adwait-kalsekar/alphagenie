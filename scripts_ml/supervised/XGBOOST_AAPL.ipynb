{
  "cells": [
    {
      "cell_type": "code",
      "source": [
        "from google.colab import drive\n",
        "drive.mount('/content/drive')"
      ],
      "metadata": {
        "colab": {
          "base_uri": "https://localhost:8080/"
        },
        "id": "Nq5wVtvbi5yS",
        "outputId": "f61df9cb-3155-46a5-ea48-9e0f7cc04d38"
      },
      "id": "Nq5wVtvbi5yS",
      "execution_count": 4,
      "outputs": [
        {
          "output_type": "stream",
          "name": "stdout",
          "text": [
            "Mounted at /content/drive\n"
          ]
        }
      ]
    },
    {
      "cell_type": "code",
      "source": [
        "!pip install --upgrade scikit-learn"
      ],
      "metadata": {
        "colab": {
          "base_uri": "https://localhost:8080/"
        },
        "id": "RhTVv_t2ih-N",
        "outputId": "36707d1f-9e6c-4f10-cf4e-3b71c4673ed9"
      },
      "id": "RhTVv_t2ih-N",
      "execution_count": 1,
      "outputs": [
        {
          "output_type": "stream",
          "name": "stdout",
          "text": [
            "Requirement already satisfied: scikit-learn in /usr/local/lib/python3.10/dist-packages (1.4.2)\n",
            "Requirement already satisfied: numpy>=1.19.5 in /usr/local/lib/python3.10/dist-packages (from scikit-learn) (1.25.2)\n",
            "Requirement already satisfied: scipy>=1.6.0 in /usr/local/lib/python3.10/dist-packages (from scikit-learn) (1.11.4)\n",
            "Requirement already satisfied: joblib>=1.2.0 in /usr/local/lib/python3.10/dist-packages (from scikit-learn) (1.4.0)\n",
            "Requirement already satisfied: threadpoolctl>=2.0.0 in /usr/local/lib/python3.10/dist-packages (from scikit-learn) (3.5.0)\n"
          ]
        }
      ]
    },
    {
      "cell_type": "code",
      "execution_count": 2,
      "id": "84060dda",
      "metadata": {
        "id": "84060dda"
      },
      "outputs": [],
      "source": [
        "# Remove Future Warnings\n",
        "import warnings\n",
        "warnings.simplefilter(action='ignore', category=FutureWarning)\n",
        "\n",
        "# General\n",
        "import numpy as np\n",
        "\n",
        "# Data Management\n",
        "import pandas as pd\n",
        "from sklearn.model_selection import train_test_split\n",
        "\n",
        "# Machine Learning\n",
        "from xgboost import XGBClassifier\n",
        "from sklearn.model_selection import RandomizedSearchCV, cross_val_score\n",
        "from sklearn.model_selection import RepeatedStratifiedKFold\n",
        "\n",
        "# Binary Classification Specific Metrics\n",
        "from sklearn.metrics import RocCurveDisplay\n",
        "\n",
        "# General Metrics\n",
        "from sklearn.metrics import accuracy_score\n",
        "from sklearn.metrics import classification_report\n",
        "from sklearn.metrics import precision_score\n",
        "from sklearn.metrics import confusion_matrix\n",
        "from sklearn.metrics import ConfusionMatrixDisplay\n",
        "\n",
        "# Reporting\n",
        "import matplotlib.pyplot as plt\n",
        "from matplotlib.pylab import rcParams\n",
        "from xgboost import plot_tree"
      ]
    },
    {
      "cell_type": "markdown",
      "id": "81e31355",
      "metadata": {
        "id": "81e31355"
      },
      "source": [
        "### Data Management"
      ]
    },
    {
      "cell_type": "code",
      "execution_count": 5,
      "id": "daa5675a",
      "metadata": {
        "colab": {
          "base_uri": "https://localhost:8080/",
          "height": 380
        },
        "id": "daa5675a",
        "outputId": "d941b926-b862-4189-8078-84091b2af89c"
      },
      "outputs": [
        {
          "output_type": "execute_result",
          "data": {
            "text/plain": [
              "                               Open      High       Low      Close    Volume  \\\n",
              "Date                                                                           \n",
              "2012-02-15 00:00:00-05:00  0.019023  0.032832 -0.010179  15.047397  2.271341   \n",
              "2012-02-16 00:00:00-05:00 -0.044258 -0.040662 -0.020648  15.184668 -0.372857   \n",
              "2012-02-17 00:00:00-05:00  0.023621  0.005704  0.028091  15.181941 -0.432741   \n",
              "\n",
              "                            Returns     Range  Bench_C_Rets        RSI  \\\n",
              "Date                                                                     \n",
              "2012-02-15 00:00:00-05:00 -0.023142  0.059168      0.404694  76.367817   \n",
              "2012-02-16 00:00:00-05:00  0.009123  0.037523      0.420048  77.766635   \n",
              "2012-02-17 00:00:00-05:00 -0.000180  0.014931      0.433254  77.668297   \n",
              "\n",
              "                            RSI_Ret  ...      MA_21  DOW  Roll_Rets  \\\n",
              "Date                                 ...                              \n",
              "2012-02-15 00:00:00-05:00  0.848287  ...  13.893777    2   0.194911   \n",
              "2012-02-16 00:00:00-05:00  1.018317  ...  13.999026    3   0.198659   \n",
              "2012-02-17 00:00:00-05:00  0.998735  ...  14.106103    4   0.187377   \n",
              "\n",
              "                           Avg_Range  Returns_T1  Range_T1  RSI_Ret_T1  \\\n",
              "Date                                                                     \n",
              "2012-02-15 00:00:00-05:00   0.014668    0.013649  0.015060    1.011993   \n",
              "2012-02-16 00:00:00-05:00   0.015479   -0.023142  0.059168    0.848287   \n",
              "2012-02-17 00:00:00-05:00   0.015501    0.009123  0.037523    1.018317   \n",
              "\n",
              "                           Returns_T2  Range_T2  RSI_Ret_T2  \n",
              "Date                                                         \n",
              "2012-02-15 00:00:00-05:00    0.018605  0.013559    1.019394  \n",
              "2012-02-16 00:00:00-05:00    0.013649  0.015060    1.011993  \n",
              "2012-02-17 00:00:00-05:00   -0.023142  0.059168    0.848287  \n",
              "\n",
              "[3 rows x 21 columns]"
            ],
            "text/html": [
              "\n",
              "  <div id=\"df-f94da1f2-df74-4c68-9f2e-08b58ebb03c7\" class=\"colab-df-container\">\n",
              "    <div>\n",
              "<style scoped>\n",
              "    .dataframe tbody tr th:only-of-type {\n",
              "        vertical-align: middle;\n",
              "    }\n",
              "\n",
              "    .dataframe tbody tr th {\n",
              "        vertical-align: top;\n",
              "    }\n",
              "\n",
              "    .dataframe thead th {\n",
              "        text-align: right;\n",
              "    }\n",
              "</style>\n",
              "<table border=\"1\" class=\"dataframe\">\n",
              "  <thead>\n",
              "    <tr style=\"text-align: right;\">\n",
              "      <th></th>\n",
              "      <th>Open</th>\n",
              "      <th>High</th>\n",
              "      <th>Low</th>\n",
              "      <th>Close</th>\n",
              "      <th>Volume</th>\n",
              "      <th>Returns</th>\n",
              "      <th>Range</th>\n",
              "      <th>Bench_C_Rets</th>\n",
              "      <th>RSI</th>\n",
              "      <th>RSI_Ret</th>\n",
              "      <th>...</th>\n",
              "      <th>MA_21</th>\n",
              "      <th>DOW</th>\n",
              "      <th>Roll_Rets</th>\n",
              "      <th>Avg_Range</th>\n",
              "      <th>Returns_T1</th>\n",
              "      <th>Range_T1</th>\n",
              "      <th>RSI_Ret_T1</th>\n",
              "      <th>Returns_T2</th>\n",
              "      <th>Range_T2</th>\n",
              "      <th>RSI_Ret_T2</th>\n",
              "    </tr>\n",
              "    <tr>\n",
              "      <th>Date</th>\n",
              "      <th></th>\n",
              "      <th></th>\n",
              "      <th></th>\n",
              "      <th></th>\n",
              "      <th></th>\n",
              "      <th></th>\n",
              "      <th></th>\n",
              "      <th></th>\n",
              "      <th></th>\n",
              "      <th></th>\n",
              "      <th></th>\n",
              "      <th></th>\n",
              "      <th></th>\n",
              "      <th></th>\n",
              "      <th></th>\n",
              "      <th></th>\n",
              "      <th></th>\n",
              "      <th></th>\n",
              "      <th></th>\n",
              "      <th></th>\n",
              "      <th></th>\n",
              "    </tr>\n",
              "  </thead>\n",
              "  <tbody>\n",
              "    <tr>\n",
              "      <th>2012-02-15 00:00:00-05:00</th>\n",
              "      <td>0.019023</td>\n",
              "      <td>0.032832</td>\n",
              "      <td>-0.010179</td>\n",
              "      <td>15.047397</td>\n",
              "      <td>2.271341</td>\n",
              "      <td>-0.023142</td>\n",
              "      <td>0.059168</td>\n",
              "      <td>0.404694</td>\n",
              "      <td>76.367817</td>\n",
              "      <td>0.848287</td>\n",
              "      <td>...</td>\n",
              "      <td>13.893777</td>\n",
              "      <td>2</td>\n",
              "      <td>0.194911</td>\n",
              "      <td>0.014668</td>\n",
              "      <td>0.013649</td>\n",
              "      <td>0.015060</td>\n",
              "      <td>1.011993</td>\n",
              "      <td>0.018605</td>\n",
              "      <td>0.013559</td>\n",
              "      <td>1.019394</td>\n",
              "    </tr>\n",
              "    <tr>\n",
              "      <th>2012-02-16 00:00:00-05:00</th>\n",
              "      <td>-0.044258</td>\n",
              "      <td>-0.040662</td>\n",
              "      <td>-0.020648</td>\n",
              "      <td>15.184668</td>\n",
              "      <td>-0.372857</td>\n",
              "      <td>0.009123</td>\n",
              "      <td>0.037523</td>\n",
              "      <td>0.420048</td>\n",
              "      <td>77.766635</td>\n",
              "      <td>1.018317</td>\n",
              "      <td>...</td>\n",
              "      <td>13.999026</td>\n",
              "      <td>3</td>\n",
              "      <td>0.198659</td>\n",
              "      <td>0.015479</td>\n",
              "      <td>-0.023142</td>\n",
              "      <td>0.059168</td>\n",
              "      <td>0.848287</td>\n",
              "      <td>0.013649</td>\n",
              "      <td>0.015060</td>\n",
              "      <td>1.011993</td>\n",
              "    </tr>\n",
              "    <tr>\n",
              "      <th>2012-02-17 00:00:00-05:00</th>\n",
              "      <td>0.023621</td>\n",
              "      <td>0.005704</td>\n",
              "      <td>0.028091</td>\n",
              "      <td>15.181941</td>\n",
              "      <td>-0.432741</td>\n",
              "      <td>-0.000180</td>\n",
              "      <td>0.014931</td>\n",
              "      <td>0.433254</td>\n",
              "      <td>77.668297</td>\n",
              "      <td>0.998735</td>\n",
              "      <td>...</td>\n",
              "      <td>14.106103</td>\n",
              "      <td>4</td>\n",
              "      <td>0.187377</td>\n",
              "      <td>0.015501</td>\n",
              "      <td>0.009123</td>\n",
              "      <td>0.037523</td>\n",
              "      <td>1.018317</td>\n",
              "      <td>-0.023142</td>\n",
              "      <td>0.059168</td>\n",
              "      <td>0.848287</td>\n",
              "    </tr>\n",
              "  </tbody>\n",
              "</table>\n",
              "<p>3 rows × 21 columns</p>\n",
              "</div>\n",
              "    <div class=\"colab-df-buttons\">\n",
              "\n",
              "  <div class=\"colab-df-container\">\n",
              "    <button class=\"colab-df-convert\" onclick=\"convertToInteractive('df-f94da1f2-df74-4c68-9f2e-08b58ebb03c7')\"\n",
              "            title=\"Convert this dataframe to an interactive table.\"\n",
              "            style=\"display:none;\">\n",
              "\n",
              "  <svg xmlns=\"http://www.w3.org/2000/svg\" height=\"24px\" viewBox=\"0 -960 960 960\">\n",
              "    <path d=\"M120-120v-720h720v720H120Zm60-500h600v-160H180v160Zm220 220h160v-160H400v160Zm0 220h160v-160H400v160ZM180-400h160v-160H180v160Zm440 0h160v-160H620v160ZM180-180h160v-160H180v160Zm440 0h160v-160H620v160Z\"/>\n",
              "  </svg>\n",
              "    </button>\n",
              "\n",
              "  <style>\n",
              "    .colab-df-container {\n",
              "      display:flex;\n",
              "      gap: 12px;\n",
              "    }\n",
              "\n",
              "    .colab-df-convert {\n",
              "      background-color: #E8F0FE;\n",
              "      border: none;\n",
              "      border-radius: 50%;\n",
              "      cursor: pointer;\n",
              "      display: none;\n",
              "      fill: #1967D2;\n",
              "      height: 32px;\n",
              "      padding: 0 0 0 0;\n",
              "      width: 32px;\n",
              "    }\n",
              "\n",
              "    .colab-df-convert:hover {\n",
              "      background-color: #E2EBFA;\n",
              "      box-shadow: 0px 1px 2px rgba(60, 64, 67, 0.3), 0px 1px 3px 1px rgba(60, 64, 67, 0.15);\n",
              "      fill: #174EA6;\n",
              "    }\n",
              "\n",
              "    .colab-df-buttons div {\n",
              "      margin-bottom: 4px;\n",
              "    }\n",
              "\n",
              "    [theme=dark] .colab-df-convert {\n",
              "      background-color: #3B4455;\n",
              "      fill: #D2E3FC;\n",
              "    }\n",
              "\n",
              "    [theme=dark] .colab-df-convert:hover {\n",
              "      background-color: #434B5C;\n",
              "      box-shadow: 0px 1px 3px 1px rgba(0, 0, 0, 0.15);\n",
              "      filter: drop-shadow(0px 1px 2px rgba(0, 0, 0, 0.3));\n",
              "      fill: #FFFFFF;\n",
              "    }\n",
              "  </style>\n",
              "\n",
              "    <script>\n",
              "      const buttonEl =\n",
              "        document.querySelector('#df-f94da1f2-df74-4c68-9f2e-08b58ebb03c7 button.colab-df-convert');\n",
              "      buttonEl.style.display =\n",
              "        google.colab.kernel.accessAllowed ? 'block' : 'none';\n",
              "\n",
              "      async function convertToInteractive(key) {\n",
              "        const element = document.querySelector('#df-f94da1f2-df74-4c68-9f2e-08b58ebb03c7');\n",
              "        const dataTable =\n",
              "          await google.colab.kernel.invokeFunction('convertToInteractive',\n",
              "                                                    [key], {});\n",
              "        if (!dataTable) return;\n",
              "\n",
              "        const docLinkHtml = 'Like what you see? Visit the ' +\n",
              "          '<a target=\"_blank\" href=https://colab.research.google.com/notebooks/data_table.ipynb>data table notebook</a>'\n",
              "          + ' to learn more about interactive tables.';\n",
              "        element.innerHTML = '';\n",
              "        dataTable['output_type'] = 'display_data';\n",
              "        await google.colab.output.renderOutput(dataTable, element);\n",
              "        const docLink = document.createElement('div');\n",
              "        docLink.innerHTML = docLinkHtml;\n",
              "        element.appendChild(docLink);\n",
              "      }\n",
              "    </script>\n",
              "  </div>\n",
              "\n",
              "\n",
              "<div id=\"df-2a8ad4e3-d440-49d9-a763-227b22cd2a37\">\n",
              "  <button class=\"colab-df-quickchart\" onclick=\"quickchart('df-2a8ad4e3-d440-49d9-a763-227b22cd2a37')\"\n",
              "            title=\"Suggest charts\"\n",
              "            style=\"display:none;\">\n",
              "\n",
              "<svg xmlns=\"http://www.w3.org/2000/svg\" height=\"24px\"viewBox=\"0 0 24 24\"\n",
              "     width=\"24px\">\n",
              "    <g>\n",
              "        <path d=\"M19 3H5c-1.1 0-2 .9-2 2v14c0 1.1.9 2 2 2h14c1.1 0 2-.9 2-2V5c0-1.1-.9-2-2-2zM9 17H7v-7h2v7zm4 0h-2V7h2v10zm4 0h-2v-4h2v4z\"/>\n",
              "    </g>\n",
              "</svg>\n",
              "  </button>\n",
              "\n",
              "<style>\n",
              "  .colab-df-quickchart {\n",
              "      --bg-color: #E8F0FE;\n",
              "      --fill-color: #1967D2;\n",
              "      --hover-bg-color: #E2EBFA;\n",
              "      --hover-fill-color: #174EA6;\n",
              "      --disabled-fill-color: #AAA;\n",
              "      --disabled-bg-color: #DDD;\n",
              "  }\n",
              "\n",
              "  [theme=dark] .colab-df-quickchart {\n",
              "      --bg-color: #3B4455;\n",
              "      --fill-color: #D2E3FC;\n",
              "      --hover-bg-color: #434B5C;\n",
              "      --hover-fill-color: #FFFFFF;\n",
              "      --disabled-bg-color: #3B4455;\n",
              "      --disabled-fill-color: #666;\n",
              "  }\n",
              "\n",
              "  .colab-df-quickchart {\n",
              "    background-color: var(--bg-color);\n",
              "    border: none;\n",
              "    border-radius: 50%;\n",
              "    cursor: pointer;\n",
              "    display: none;\n",
              "    fill: var(--fill-color);\n",
              "    height: 32px;\n",
              "    padding: 0;\n",
              "    width: 32px;\n",
              "  }\n",
              "\n",
              "  .colab-df-quickchart:hover {\n",
              "    background-color: var(--hover-bg-color);\n",
              "    box-shadow: 0 1px 2px rgba(60, 64, 67, 0.3), 0 1px 3px 1px rgba(60, 64, 67, 0.15);\n",
              "    fill: var(--button-hover-fill-color);\n",
              "  }\n",
              "\n",
              "  .colab-df-quickchart-complete:disabled,\n",
              "  .colab-df-quickchart-complete:disabled:hover {\n",
              "    background-color: var(--disabled-bg-color);\n",
              "    fill: var(--disabled-fill-color);\n",
              "    box-shadow: none;\n",
              "  }\n",
              "\n",
              "  .colab-df-spinner {\n",
              "    border: 2px solid var(--fill-color);\n",
              "    border-color: transparent;\n",
              "    border-bottom-color: var(--fill-color);\n",
              "    animation:\n",
              "      spin 1s steps(1) infinite;\n",
              "  }\n",
              "\n",
              "  @keyframes spin {\n",
              "    0% {\n",
              "      border-color: transparent;\n",
              "      border-bottom-color: var(--fill-color);\n",
              "      border-left-color: var(--fill-color);\n",
              "    }\n",
              "    20% {\n",
              "      border-color: transparent;\n",
              "      border-left-color: var(--fill-color);\n",
              "      border-top-color: var(--fill-color);\n",
              "    }\n",
              "    30% {\n",
              "      border-color: transparent;\n",
              "      border-left-color: var(--fill-color);\n",
              "      border-top-color: var(--fill-color);\n",
              "      border-right-color: var(--fill-color);\n",
              "    }\n",
              "    40% {\n",
              "      border-color: transparent;\n",
              "      border-right-color: var(--fill-color);\n",
              "      border-top-color: var(--fill-color);\n",
              "    }\n",
              "    60% {\n",
              "      border-color: transparent;\n",
              "      border-right-color: var(--fill-color);\n",
              "    }\n",
              "    80% {\n",
              "      border-color: transparent;\n",
              "      border-right-color: var(--fill-color);\n",
              "      border-bottom-color: var(--fill-color);\n",
              "    }\n",
              "    90% {\n",
              "      border-color: transparent;\n",
              "      border-bottom-color: var(--fill-color);\n",
              "    }\n",
              "  }\n",
              "</style>\n",
              "\n",
              "  <script>\n",
              "    async function quickchart(key) {\n",
              "      const quickchartButtonEl =\n",
              "        document.querySelector('#' + key + ' button');\n",
              "      quickchartButtonEl.disabled = true;  // To prevent multiple clicks.\n",
              "      quickchartButtonEl.classList.add('colab-df-spinner');\n",
              "      try {\n",
              "        const charts = await google.colab.kernel.invokeFunction(\n",
              "            'suggestCharts', [key], {});\n",
              "      } catch (error) {\n",
              "        console.error('Error during call to suggestCharts:', error);\n",
              "      }\n",
              "      quickchartButtonEl.classList.remove('colab-df-spinner');\n",
              "      quickchartButtonEl.classList.add('colab-df-quickchart-complete');\n",
              "    }\n",
              "    (() => {\n",
              "      let quickchartButtonEl =\n",
              "        document.querySelector('#df-2a8ad4e3-d440-49d9-a763-227b22cd2a37 button');\n",
              "      quickchartButtonEl.style.display =\n",
              "        google.colab.kernel.accessAllowed ? 'block' : 'none';\n",
              "    })();\n",
              "  </script>\n",
              "</div>\n",
              "\n",
              "    </div>\n",
              "  </div>\n"
            ],
            "application/vnd.google.colaboratory.intrinsic+json": {
              "type": "dataframe",
              "variable_name": "df"
            }
          },
          "metadata": {},
          "execution_count": 5
        }
      ],
      "source": [
        "# Data Extraction\n",
        "df = pd.read_csv(\"/content/drive/MyDrive/ML_Trade/2_Supervised/data/AAPL.csv\")\n",
        "df.set_index(\"Date\", inplace=True)\n",
        "df.head(3)"
      ]
    },
    {
      "cell_type": "code",
      "execution_count": 6,
      "id": "77f15919",
      "metadata": {
        "id": "77f15919"
      },
      "outputs": [],
      "source": [
        "# Specify Target\n",
        "df.loc[df[\"Range\"].shift(-1) > df[\"Avg_Range\"], \"TARGET\"] = 1\n",
        "df.loc[df[\"Range\"].shift(-1) <= df[\"Avg_Range\"], \"TARGET\"] = 0"
      ]
    },
    {
      "cell_type": "code",
      "execution_count": 7,
      "id": "af090c92",
      "metadata": {
        "colab": {
          "base_uri": "https://localhost:8080/",
          "height": 547
        },
        "id": "af090c92",
        "outputId": "e0570ee3-2564-46e0-f891-d8b85269b446"
      },
      "outputs": [
        {
          "output_type": "execute_result",
          "data": {
            "text/plain": [
              "                               Open      High       Low       Close    Volume  \\\n",
              "Date                                                                            \n",
              "2023-10-24 00:00:00-04:00  0.012521 -0.001954  0.008945  172.991058 -0.217283   \n",
              "2023-10-25 00:00:00-04:00 -0.006761 -0.003512 -0.004666  170.657120  0.304460   \n",
              "2023-10-26 00:00:00-04:00 -0.008785 -0.009708 -0.029183  166.458008  0.235637   \n",
              "2023-10-27 00:00:00-04:00 -0.020309 -0.014121  0.007002  167.784561 -0.171698   \n",
              "2023-10-30 00:00:00-04:00  0.012642  0.013080  0.012228  169.849197 -0.125952   \n",
              "\n",
              "                            Returns     Range  Bench_C_Rets        RSI  \\\n",
              "Date                                                                     \n",
              "2023-10-24 00:00:00-04:00  0.002543  0.012948     62.642711  42.025233   \n",
              "2023-10-25 00:00:00-04:00 -0.013492  0.014122     61.516190  37.151301   \n",
              "2023-10-26 00:00:00-04:00 -0.024606  0.034466     59.985252  30.334779   \n",
              "2023-10-27 00:00:00-04:00  0.007969  0.012768     60.763601  34.427947   \n",
              "2023-10-30 00:00:00-04:00  0.012305  0.013620     61.178497  40.306545   \n",
              "\n",
              "                            RSI_Ret  ...  DOW  Roll_Rets  Avg_Range  \\\n",
              "Date                                 ...                              \n",
              "2023-10-24 00:00:00-04:00  1.033421  ...    1  -0.014853   0.017912   \n",
              "2023-10-25 00:00:00-04:00  0.884024  ...    2  -0.016490   0.017747   \n",
              "2023-10-26 00:00:00-04:00  0.816520  ...    3  -0.049878   0.018412   \n",
              "2023-10-27 00:00:00-04:00  1.134933  ...    4  -0.037754   0.018324   \n",
              "2023-10-30 00:00:00-04:00  1.170751  ...    0  -0.042362   0.018170   \n",
              "\n",
              "                           Returns_T1  Range_T1  RSI_Ret_T1  Returns_T2  \\\n",
              "Date                                                                      \n",
              "2023-10-24 00:00:00-04:00    0.000694  0.024010    1.008791   -0.014704   \n",
              "2023-10-25 00:00:00-04:00    0.002543  0.012948    1.033421    0.000694   \n",
              "2023-10-26 00:00:00-04:00   -0.013492  0.014122    0.884024    0.002543   \n",
              "2023-10-27 00:00:00-04:00   -0.024606  0.034466    0.816520   -0.013492   \n",
              "2023-10-30 00:00:00-04:00    0.007969  0.012768    1.134933   -0.024606   \n",
              "\n",
              "                           Range_T2  RSI_Ret_T2  TARGET  \n",
              "Date                                                     \n",
              "2023-10-24 00:00:00-04:00  0.016103    0.880764     0.0  \n",
              "2023-10-25 00:00:00-04:00  0.024010    1.008791     1.0  \n",
              "2023-10-26 00:00:00-04:00  0.012948    1.033421     0.0  \n",
              "2023-10-27 00:00:00-04:00  0.014122    0.884024     0.0  \n",
              "2023-10-30 00:00:00-04:00  0.034466    0.816520     0.0  \n",
              "\n",
              "[5 rows x 22 columns]"
            ],
            "text/html": [
              "\n",
              "  <div id=\"df-cdfb06c1-65d7-457e-a35c-d54e984f4a7b\" class=\"colab-df-container\">\n",
              "    <div>\n",
              "<style scoped>\n",
              "    .dataframe tbody tr th:only-of-type {\n",
              "        vertical-align: middle;\n",
              "    }\n",
              "\n",
              "    .dataframe tbody tr th {\n",
              "        vertical-align: top;\n",
              "    }\n",
              "\n",
              "    .dataframe thead th {\n",
              "        text-align: right;\n",
              "    }\n",
              "</style>\n",
              "<table border=\"1\" class=\"dataframe\">\n",
              "  <thead>\n",
              "    <tr style=\"text-align: right;\">\n",
              "      <th></th>\n",
              "      <th>Open</th>\n",
              "      <th>High</th>\n",
              "      <th>Low</th>\n",
              "      <th>Close</th>\n",
              "      <th>Volume</th>\n",
              "      <th>Returns</th>\n",
              "      <th>Range</th>\n",
              "      <th>Bench_C_Rets</th>\n",
              "      <th>RSI</th>\n",
              "      <th>RSI_Ret</th>\n",
              "      <th>...</th>\n",
              "      <th>DOW</th>\n",
              "      <th>Roll_Rets</th>\n",
              "      <th>Avg_Range</th>\n",
              "      <th>Returns_T1</th>\n",
              "      <th>Range_T1</th>\n",
              "      <th>RSI_Ret_T1</th>\n",
              "      <th>Returns_T2</th>\n",
              "      <th>Range_T2</th>\n",
              "      <th>RSI_Ret_T2</th>\n",
              "      <th>TARGET</th>\n",
              "    </tr>\n",
              "    <tr>\n",
              "      <th>Date</th>\n",
              "      <th></th>\n",
              "      <th></th>\n",
              "      <th></th>\n",
              "      <th></th>\n",
              "      <th></th>\n",
              "      <th></th>\n",
              "      <th></th>\n",
              "      <th></th>\n",
              "      <th></th>\n",
              "      <th></th>\n",
              "      <th></th>\n",
              "      <th></th>\n",
              "      <th></th>\n",
              "      <th></th>\n",
              "      <th></th>\n",
              "      <th></th>\n",
              "      <th></th>\n",
              "      <th></th>\n",
              "      <th></th>\n",
              "      <th></th>\n",
              "      <th></th>\n",
              "    </tr>\n",
              "  </thead>\n",
              "  <tbody>\n",
              "    <tr>\n",
              "      <th>2023-10-24 00:00:00-04:00</th>\n",
              "      <td>0.012521</td>\n",
              "      <td>-0.001954</td>\n",
              "      <td>0.008945</td>\n",
              "      <td>172.991058</td>\n",
              "      <td>-0.217283</td>\n",
              "      <td>0.002543</td>\n",
              "      <td>0.012948</td>\n",
              "      <td>62.642711</td>\n",
              "      <td>42.025233</td>\n",
              "      <td>1.033421</td>\n",
              "      <td>...</td>\n",
              "      <td>1</td>\n",
              "      <td>-0.014853</td>\n",
              "      <td>0.017912</td>\n",
              "      <td>0.000694</td>\n",
              "      <td>0.024010</td>\n",
              "      <td>1.008791</td>\n",
              "      <td>-0.014704</td>\n",
              "      <td>0.016103</td>\n",
              "      <td>0.880764</td>\n",
              "      <td>0.0</td>\n",
              "    </tr>\n",
              "    <tr>\n",
              "      <th>2023-10-25 00:00:00-04:00</th>\n",
              "      <td>-0.006761</td>\n",
              "      <td>-0.003512</td>\n",
              "      <td>-0.004666</td>\n",
              "      <td>170.657120</td>\n",
              "      <td>0.304460</td>\n",
              "      <td>-0.013492</td>\n",
              "      <td>0.014122</td>\n",
              "      <td>61.516190</td>\n",
              "      <td>37.151301</td>\n",
              "      <td>0.884024</td>\n",
              "      <td>...</td>\n",
              "      <td>2</td>\n",
              "      <td>-0.016490</td>\n",
              "      <td>0.017747</td>\n",
              "      <td>0.002543</td>\n",
              "      <td>0.012948</td>\n",
              "      <td>1.033421</td>\n",
              "      <td>0.000694</td>\n",
              "      <td>0.024010</td>\n",
              "      <td>1.008791</td>\n",
              "      <td>1.0</td>\n",
              "    </tr>\n",
              "    <tr>\n",
              "      <th>2023-10-26 00:00:00-04:00</th>\n",
              "      <td>-0.008785</td>\n",
              "      <td>-0.009708</td>\n",
              "      <td>-0.029183</td>\n",
              "      <td>166.458008</td>\n",
              "      <td>0.235637</td>\n",
              "      <td>-0.024606</td>\n",
              "      <td>0.034466</td>\n",
              "      <td>59.985252</td>\n",
              "      <td>30.334779</td>\n",
              "      <td>0.816520</td>\n",
              "      <td>...</td>\n",
              "      <td>3</td>\n",
              "      <td>-0.049878</td>\n",
              "      <td>0.018412</td>\n",
              "      <td>-0.013492</td>\n",
              "      <td>0.014122</td>\n",
              "      <td>0.884024</td>\n",
              "      <td>0.002543</td>\n",
              "      <td>0.012948</td>\n",
              "      <td>1.033421</td>\n",
              "      <td>0.0</td>\n",
              "    </tr>\n",
              "    <tr>\n",
              "      <th>2023-10-27 00:00:00-04:00</th>\n",
              "      <td>-0.020309</td>\n",
              "      <td>-0.014121</td>\n",
              "      <td>0.007002</td>\n",
              "      <td>167.784561</td>\n",
              "      <td>-0.171698</td>\n",
              "      <td>0.007969</td>\n",
              "      <td>0.012768</td>\n",
              "      <td>60.763601</td>\n",
              "      <td>34.427947</td>\n",
              "      <td>1.134933</td>\n",
              "      <td>...</td>\n",
              "      <td>4</td>\n",
              "      <td>-0.037754</td>\n",
              "      <td>0.018324</td>\n",
              "      <td>-0.024606</td>\n",
              "      <td>0.034466</td>\n",
              "      <td>0.816520</td>\n",
              "      <td>-0.013492</td>\n",
              "      <td>0.014122</td>\n",
              "      <td>0.884024</td>\n",
              "      <td>0.0</td>\n",
              "    </tr>\n",
              "    <tr>\n",
              "      <th>2023-10-30 00:00:00-04:00</th>\n",
              "      <td>0.012642</td>\n",
              "      <td>0.013080</td>\n",
              "      <td>0.012228</td>\n",
              "      <td>169.849197</td>\n",
              "      <td>-0.125952</td>\n",
              "      <td>0.012305</td>\n",
              "      <td>0.013620</td>\n",
              "      <td>61.178497</td>\n",
              "      <td>40.306545</td>\n",
              "      <td>1.170751</td>\n",
              "      <td>...</td>\n",
              "      <td>0</td>\n",
              "      <td>-0.042362</td>\n",
              "      <td>0.018170</td>\n",
              "      <td>0.007969</td>\n",
              "      <td>0.012768</td>\n",
              "      <td>1.134933</td>\n",
              "      <td>-0.024606</td>\n",
              "      <td>0.034466</td>\n",
              "      <td>0.816520</td>\n",
              "      <td>0.0</td>\n",
              "    </tr>\n",
              "  </tbody>\n",
              "</table>\n",
              "<p>5 rows × 22 columns</p>\n",
              "</div>\n",
              "    <div class=\"colab-df-buttons\">\n",
              "\n",
              "  <div class=\"colab-df-container\">\n",
              "    <button class=\"colab-df-convert\" onclick=\"convertToInteractive('df-cdfb06c1-65d7-457e-a35c-d54e984f4a7b')\"\n",
              "            title=\"Convert this dataframe to an interactive table.\"\n",
              "            style=\"display:none;\">\n",
              "\n",
              "  <svg xmlns=\"http://www.w3.org/2000/svg\" height=\"24px\" viewBox=\"0 -960 960 960\">\n",
              "    <path d=\"M120-120v-720h720v720H120Zm60-500h600v-160H180v160Zm220 220h160v-160H400v160Zm0 220h160v-160H400v160ZM180-400h160v-160H180v160Zm440 0h160v-160H620v160ZM180-180h160v-160H180v160Zm440 0h160v-160H620v160Z\"/>\n",
              "  </svg>\n",
              "    </button>\n",
              "\n",
              "  <style>\n",
              "    .colab-df-container {\n",
              "      display:flex;\n",
              "      gap: 12px;\n",
              "    }\n",
              "\n",
              "    .colab-df-convert {\n",
              "      background-color: #E8F0FE;\n",
              "      border: none;\n",
              "      border-radius: 50%;\n",
              "      cursor: pointer;\n",
              "      display: none;\n",
              "      fill: #1967D2;\n",
              "      height: 32px;\n",
              "      padding: 0 0 0 0;\n",
              "      width: 32px;\n",
              "    }\n",
              "\n",
              "    .colab-df-convert:hover {\n",
              "      background-color: #E2EBFA;\n",
              "      box-shadow: 0px 1px 2px rgba(60, 64, 67, 0.3), 0px 1px 3px 1px rgba(60, 64, 67, 0.15);\n",
              "      fill: #174EA6;\n",
              "    }\n",
              "\n",
              "    .colab-df-buttons div {\n",
              "      margin-bottom: 4px;\n",
              "    }\n",
              "\n",
              "    [theme=dark] .colab-df-convert {\n",
              "      background-color: #3B4455;\n",
              "      fill: #D2E3FC;\n",
              "    }\n",
              "\n",
              "    [theme=dark] .colab-df-convert:hover {\n",
              "      background-color: #434B5C;\n",
              "      box-shadow: 0px 1px 3px 1px rgba(0, 0, 0, 0.15);\n",
              "      filter: drop-shadow(0px 1px 2px rgba(0, 0, 0, 0.3));\n",
              "      fill: #FFFFFF;\n",
              "    }\n",
              "  </style>\n",
              "\n",
              "    <script>\n",
              "      const buttonEl =\n",
              "        document.querySelector('#df-cdfb06c1-65d7-457e-a35c-d54e984f4a7b button.colab-df-convert');\n",
              "      buttonEl.style.display =\n",
              "        google.colab.kernel.accessAllowed ? 'block' : 'none';\n",
              "\n",
              "      async function convertToInteractive(key) {\n",
              "        const element = document.querySelector('#df-cdfb06c1-65d7-457e-a35c-d54e984f4a7b');\n",
              "        const dataTable =\n",
              "          await google.colab.kernel.invokeFunction('convertToInteractive',\n",
              "                                                    [key], {});\n",
              "        if (!dataTable) return;\n",
              "\n",
              "        const docLinkHtml = 'Like what you see? Visit the ' +\n",
              "          '<a target=\"_blank\" href=https://colab.research.google.com/notebooks/data_table.ipynb>data table notebook</a>'\n",
              "          + ' to learn more about interactive tables.';\n",
              "        element.innerHTML = '';\n",
              "        dataTable['output_type'] = 'display_data';\n",
              "        await google.colab.output.renderOutput(dataTable, element);\n",
              "        const docLink = document.createElement('div');\n",
              "        docLink.innerHTML = docLinkHtml;\n",
              "        element.appendChild(docLink);\n",
              "      }\n",
              "    </script>\n",
              "  </div>\n",
              "\n",
              "\n",
              "<div id=\"df-8e69255a-0284-493e-95ab-7da63db1e41f\">\n",
              "  <button class=\"colab-df-quickchart\" onclick=\"quickchart('df-8e69255a-0284-493e-95ab-7da63db1e41f')\"\n",
              "            title=\"Suggest charts\"\n",
              "            style=\"display:none;\">\n",
              "\n",
              "<svg xmlns=\"http://www.w3.org/2000/svg\" height=\"24px\"viewBox=\"0 0 24 24\"\n",
              "     width=\"24px\">\n",
              "    <g>\n",
              "        <path d=\"M19 3H5c-1.1 0-2 .9-2 2v14c0 1.1.9 2 2 2h14c1.1 0 2-.9 2-2V5c0-1.1-.9-2-2-2zM9 17H7v-7h2v7zm4 0h-2V7h2v10zm4 0h-2v-4h2v4z\"/>\n",
              "    </g>\n",
              "</svg>\n",
              "  </button>\n",
              "\n",
              "<style>\n",
              "  .colab-df-quickchart {\n",
              "      --bg-color: #E8F0FE;\n",
              "      --fill-color: #1967D2;\n",
              "      --hover-bg-color: #E2EBFA;\n",
              "      --hover-fill-color: #174EA6;\n",
              "      --disabled-fill-color: #AAA;\n",
              "      --disabled-bg-color: #DDD;\n",
              "  }\n",
              "\n",
              "  [theme=dark] .colab-df-quickchart {\n",
              "      --bg-color: #3B4455;\n",
              "      --fill-color: #D2E3FC;\n",
              "      --hover-bg-color: #434B5C;\n",
              "      --hover-fill-color: #FFFFFF;\n",
              "      --disabled-bg-color: #3B4455;\n",
              "      --disabled-fill-color: #666;\n",
              "  }\n",
              "\n",
              "  .colab-df-quickchart {\n",
              "    background-color: var(--bg-color);\n",
              "    border: none;\n",
              "    border-radius: 50%;\n",
              "    cursor: pointer;\n",
              "    display: none;\n",
              "    fill: var(--fill-color);\n",
              "    height: 32px;\n",
              "    padding: 0;\n",
              "    width: 32px;\n",
              "  }\n",
              "\n",
              "  .colab-df-quickchart:hover {\n",
              "    background-color: var(--hover-bg-color);\n",
              "    box-shadow: 0 1px 2px rgba(60, 64, 67, 0.3), 0 1px 3px 1px rgba(60, 64, 67, 0.15);\n",
              "    fill: var(--button-hover-fill-color);\n",
              "  }\n",
              "\n",
              "  .colab-df-quickchart-complete:disabled,\n",
              "  .colab-df-quickchart-complete:disabled:hover {\n",
              "    background-color: var(--disabled-bg-color);\n",
              "    fill: var(--disabled-fill-color);\n",
              "    box-shadow: none;\n",
              "  }\n",
              "\n",
              "  .colab-df-spinner {\n",
              "    border: 2px solid var(--fill-color);\n",
              "    border-color: transparent;\n",
              "    border-bottom-color: var(--fill-color);\n",
              "    animation:\n",
              "      spin 1s steps(1) infinite;\n",
              "  }\n",
              "\n",
              "  @keyframes spin {\n",
              "    0% {\n",
              "      border-color: transparent;\n",
              "      border-bottom-color: var(--fill-color);\n",
              "      border-left-color: var(--fill-color);\n",
              "    }\n",
              "    20% {\n",
              "      border-color: transparent;\n",
              "      border-left-color: var(--fill-color);\n",
              "      border-top-color: var(--fill-color);\n",
              "    }\n",
              "    30% {\n",
              "      border-color: transparent;\n",
              "      border-left-color: var(--fill-color);\n",
              "      border-top-color: var(--fill-color);\n",
              "      border-right-color: var(--fill-color);\n",
              "    }\n",
              "    40% {\n",
              "      border-color: transparent;\n",
              "      border-right-color: var(--fill-color);\n",
              "      border-top-color: var(--fill-color);\n",
              "    }\n",
              "    60% {\n",
              "      border-color: transparent;\n",
              "      border-right-color: var(--fill-color);\n",
              "    }\n",
              "    80% {\n",
              "      border-color: transparent;\n",
              "      border-right-color: var(--fill-color);\n",
              "      border-bottom-color: var(--fill-color);\n",
              "    }\n",
              "    90% {\n",
              "      border-color: transparent;\n",
              "      border-bottom-color: var(--fill-color);\n",
              "    }\n",
              "  }\n",
              "</style>\n",
              "\n",
              "  <script>\n",
              "    async function quickchart(key) {\n",
              "      const quickchartButtonEl =\n",
              "        document.querySelector('#' + key + ' button');\n",
              "      quickchartButtonEl.disabled = true;  // To prevent multiple clicks.\n",
              "      quickchartButtonEl.classList.add('colab-df-spinner');\n",
              "      try {\n",
              "        const charts = await google.colab.kernel.invokeFunction(\n",
              "            'suggestCharts', [key], {});\n",
              "      } catch (error) {\n",
              "        console.error('Error during call to suggestCharts:', error);\n",
              "      }\n",
              "      quickchartButtonEl.classList.remove('colab-df-spinner');\n",
              "      quickchartButtonEl.classList.add('colab-df-quickchart-complete');\n",
              "    }\n",
              "    (() => {\n",
              "      let quickchartButtonEl =\n",
              "        document.querySelector('#df-8e69255a-0284-493e-95ab-7da63db1e41f button');\n",
              "      quickchartButtonEl.style.display =\n",
              "        google.colab.kernel.accessAllowed ? 'block' : 'none';\n",
              "    })();\n",
              "  </script>\n",
              "</div>\n",
              "\n",
              "    </div>\n",
              "  </div>\n"
            ],
            "application/vnd.google.colaboratory.intrinsic+json": {
              "type": "dataframe"
            }
          },
          "metadata": {},
          "execution_count": 7
        }
      ],
      "source": [
        "# Fill NA\n",
        "df[\"TARGET\"].fillna(0, inplace=True)\n",
        "df.tail()"
      ]
    },
    {
      "cell_type": "markdown",
      "id": "655c84e8",
      "metadata": {
        "id": "655c84e8"
      },
      "source": [
        "### Train Test Split"
      ]
    },
    {
      "cell_type": "code",
      "execution_count": 8,
      "id": "b5594c66",
      "metadata": {
        "id": "b5594c66"
      },
      "outputs": [],
      "source": [
        "# Feature Selection\n",
        "df_tts = df.copy()\n",
        "df_tts = df_tts[[\"Returns\", \"Range\", \"RSI\", \"RSI_Ret\", \"Returns_T1\", \"RSI_Ret_T1\", \"TARGET\"]]"
      ]
    },
    {
      "cell_type": "code",
      "execution_count": 9,
      "id": "74b15e25",
      "metadata": {
        "id": "74b15e25"
      },
      "outputs": [],
      "source": [
        "# Split into X and Y Data\n",
        "X = df_tts.iloc[:, : -1]\n",
        "y = df_tts.iloc[:, -1]"
      ]
    },
    {
      "cell_type": "code",
      "execution_count": 10,
      "id": "7764be22",
      "metadata": {
        "colab": {
          "base_uri": "https://localhost:8080/"
        },
        "id": "7764be22",
        "outputId": "9e475338-5808-4dda-919f-e17989314bd2"
      },
      "outputs": [
        {
          "output_type": "stream",
          "name": "stdout",
          "text": [
            "Shape of X_train:  (2062, 6)\n",
            "Shape of y_train:  (2062,)\n",
            "Shape of X_test:  (884, 6)\n",
            "Shape of y_test:  (884,)\n",
            "Size Matches:  True\n"
          ]
        }
      ],
      "source": [
        "# Perform Train Test Split (Timeseries based method)\n",
        "train_size_rate = 0.7\n",
        "train_size = int(len(X) * train_size_rate)\n",
        "test_size = len(X) - train_size\n",
        "\n",
        "X_train = X.head(train_size)\n",
        "y_train = y.head(train_size)\n",
        "X_test = X.tail(test_size)\n",
        "y_test = y.tail(test_size)\n",
        "\n",
        "size_check = len(y_test) + len(y_train) == len(X)\n",
        "print(\"Shape of X_train: \", X_train.shape)\n",
        "print(\"Shape of y_train: \", y_train.shape)\n",
        "print(\"Shape of X_test: \", X_test.shape)\n",
        "print(\"Shape of y_test: \", y_test.shape)\n",
        "print(\"Size Matches: \", size_check)"
      ]
    },
    {
      "cell_type": "markdown",
      "id": "9f854033",
      "metadata": {
        "id": "9f854033"
      },
      "source": [
        "### Build Model"
      ]
    },
    {
      "cell_type": "code",
      "execution_count": 11,
      "id": "ac98ab42",
      "metadata": {
        "id": "ac98ab42"
      },
      "outputs": [],
      "source": [
        "# Select type of model to optimize for\n",
        "is_binary = True\n",
        "is_optimise_for_precision = True"
      ]
    },
    {
      "cell_type": "code",
      "execution_count": 12,
      "id": "798578ee",
      "metadata": {
        "id": "798578ee"
      },
      "outputs": [],
      "source": [
        "# Determine Objective and Eval Metrics\n",
        "if is_binary:\n",
        "    objective = \"binary:logistic\"\n",
        "    eval_metric = \"logloss\"\n",
        "    eval_metric_list = [\"error\", \"logloss\", eval_metric]\n",
        "else:\n",
        "    objective = \"multi:softmax\"\n",
        "    eval_metric = \"mlogloss\"\n",
        "    eval_metric_list = [\"merror\", \"mlogloss\", eval_metric]"
      ]
    },
    {
      "cell_type": "code",
      "execution_count": 13,
      "id": "9bc99128",
      "metadata": {
        "id": "9bc99128"
      },
      "outputs": [],
      "source": [
        "# Refine Eval Metric\n",
        "if is_binary and is_optimise_for_precision:\n",
        "    eval_metric = \"aucpr\"\n",
        "    scoring = \"precision\"\n",
        "elif is_binary and not is_optimise_for_precision:\n",
        "    eval_metric = \"auc\"\n",
        "    scoring = \"f1\"\n",
        "else:\n",
        "    scoring = \"accuracy\""
      ]
    },
    {
      "cell_type": "code",
      "execution_count": 14,
      "id": "19284da7",
      "metadata": {
        "id": "19284da7"
      },
      "outputs": [],
      "source": [
        "# Hyperparams: ne: 80, lr: 0.01 md: 3 gm: 6\n",
        "ne = 150\n",
        "lr = 0.01\n",
        "md = 2\n",
        "gm = 6"
      ]
    },
    {
      "cell_type": "code",
      "execution_count": 30,
      "id": "c16a677d",
      "metadata": {
        "id": "c16a677d"
      },
      "outputs": [],
      "source": [
        "# XGBOOST Classifier\n",
        "classifier = XGBClassifier(\n",
        "    objective=objective,\n",
        "    booster=\"gbtree\",\n",
        "    eval_metric=eval_metric_list,\n",
        "    n_estimators=ne,\n",
        "    learning_rate=lr,\n",
        "    max_depth=md,\n",
        "    gamma=gm,\n",
        "    subsample=0.8,\n",
        "    colsample_bytree=1,\n",
        "    random_state=1,\n",
        "    use_label_encoder=False\n",
        ")"
      ]
    },
    {
      "cell_type": "code",
      "execution_count": 31,
      "id": "58d02289",
      "metadata": {
        "colab": {
          "base_uri": "https://localhost:8080/",
          "height": 254
        },
        "id": "58d02289",
        "outputId": "83ea811b-89ea-4a77-fe2e-d72c5a8834ab"
      },
      "outputs": [
        {
          "output_type": "execute_result",
          "data": {
            "text/plain": [
              "XGBClassifier(base_score=None, booster='gbtree', callbacks=None,\n",
              "              colsample_bylevel=None, colsample_bynode=None, colsample_bytree=1,\n",
              "              device=None, early_stopping_rounds=None, enable_categorical=False,\n",
              "              eval_metric=['error', 'logloss', 'logloss'], feature_types=None,\n",
              "              gamma=6, grow_policy=None, importance_type=None,\n",
              "              interaction_constraints=None, learning_rate=0.01, max_bin=None,\n",
              "              max_cat_threshold=None, max_cat_to_onehot=None,\n",
              "              max_delta_step=None, max_depth=2, max_leaves=None,\n",
              "              min_child_weight=None, missing=nan, monotone_constraints=None,\n",
              "              multi_strategy=None, n_estimators=150, n_jobs=None,\n",
              "              num_parallel_tree=None, random_state=1, ...)"
            ],
            "text/html": [
              "<style>#sk-container-id-2 {\n",
              "  /* Definition of color scheme common for light and dark mode */\n",
              "  --sklearn-color-text: black;\n",
              "  --sklearn-color-line: gray;\n",
              "  /* Definition of color scheme for unfitted estimators */\n",
              "  --sklearn-color-unfitted-level-0: #fff5e6;\n",
              "  --sklearn-color-unfitted-level-1: #f6e4d2;\n",
              "  --sklearn-color-unfitted-level-2: #ffe0b3;\n",
              "  --sklearn-color-unfitted-level-3: chocolate;\n",
              "  /* Definition of color scheme for fitted estimators */\n",
              "  --sklearn-color-fitted-level-0: #f0f8ff;\n",
              "  --sklearn-color-fitted-level-1: #d4ebff;\n",
              "  --sklearn-color-fitted-level-2: #b3dbfd;\n",
              "  --sklearn-color-fitted-level-3: cornflowerblue;\n",
              "\n",
              "  /* Specific color for light theme */\n",
              "  --sklearn-color-text-on-default-background: var(--sg-text-color, var(--theme-code-foreground, var(--jp-content-font-color1, black)));\n",
              "  --sklearn-color-background: var(--sg-background-color, var(--theme-background, var(--jp-layout-color0, white)));\n",
              "  --sklearn-color-border-box: var(--sg-text-color, var(--theme-code-foreground, var(--jp-content-font-color1, black)));\n",
              "  --sklearn-color-icon: #696969;\n",
              "\n",
              "  @media (prefers-color-scheme: dark) {\n",
              "    /* Redefinition of color scheme for dark theme */\n",
              "    --sklearn-color-text-on-default-background: var(--sg-text-color, var(--theme-code-foreground, var(--jp-content-font-color1, white)));\n",
              "    --sklearn-color-background: var(--sg-background-color, var(--theme-background, var(--jp-layout-color0, #111)));\n",
              "    --sklearn-color-border-box: var(--sg-text-color, var(--theme-code-foreground, var(--jp-content-font-color1, white)));\n",
              "    --sklearn-color-icon: #878787;\n",
              "  }\n",
              "}\n",
              "\n",
              "#sk-container-id-2 {\n",
              "  color: var(--sklearn-color-text);\n",
              "}\n",
              "\n",
              "#sk-container-id-2 pre {\n",
              "  padding: 0;\n",
              "}\n",
              "\n",
              "#sk-container-id-2 input.sk-hidden--visually {\n",
              "  border: 0;\n",
              "  clip: rect(1px 1px 1px 1px);\n",
              "  clip: rect(1px, 1px, 1px, 1px);\n",
              "  height: 1px;\n",
              "  margin: -1px;\n",
              "  overflow: hidden;\n",
              "  padding: 0;\n",
              "  position: absolute;\n",
              "  width: 1px;\n",
              "}\n",
              "\n",
              "#sk-container-id-2 div.sk-dashed-wrapped {\n",
              "  border: 1px dashed var(--sklearn-color-line);\n",
              "  margin: 0 0.4em 0.5em 0.4em;\n",
              "  box-sizing: border-box;\n",
              "  padding-bottom: 0.4em;\n",
              "  background-color: var(--sklearn-color-background);\n",
              "}\n",
              "\n",
              "#sk-container-id-2 div.sk-container {\n",
              "  /* jupyter's `normalize.less` sets `[hidden] { display: none; }`\n",
              "     but bootstrap.min.css set `[hidden] { display: none !important; }`\n",
              "     so we also need the `!important` here to be able to override the\n",
              "     default hidden behavior on the sphinx rendered scikit-learn.org.\n",
              "     See: https://github.com/scikit-learn/scikit-learn/issues/21755 */\n",
              "  display: inline-block !important;\n",
              "  position: relative;\n",
              "}\n",
              "\n",
              "#sk-container-id-2 div.sk-text-repr-fallback {\n",
              "  display: none;\n",
              "}\n",
              "\n",
              "div.sk-parallel-item,\n",
              "div.sk-serial,\n",
              "div.sk-item {\n",
              "  /* draw centered vertical line to link estimators */\n",
              "  background-image: linear-gradient(var(--sklearn-color-text-on-default-background), var(--sklearn-color-text-on-default-background));\n",
              "  background-size: 2px 100%;\n",
              "  background-repeat: no-repeat;\n",
              "  background-position: center center;\n",
              "}\n",
              "\n",
              "/* Parallel-specific style estimator block */\n",
              "\n",
              "#sk-container-id-2 div.sk-parallel-item::after {\n",
              "  content: \"\";\n",
              "  width: 100%;\n",
              "  border-bottom: 2px solid var(--sklearn-color-text-on-default-background);\n",
              "  flex-grow: 1;\n",
              "}\n",
              "\n",
              "#sk-container-id-2 div.sk-parallel {\n",
              "  display: flex;\n",
              "  align-items: stretch;\n",
              "  justify-content: center;\n",
              "  background-color: var(--sklearn-color-background);\n",
              "  position: relative;\n",
              "}\n",
              "\n",
              "#sk-container-id-2 div.sk-parallel-item {\n",
              "  display: flex;\n",
              "  flex-direction: column;\n",
              "}\n",
              "\n",
              "#sk-container-id-2 div.sk-parallel-item:first-child::after {\n",
              "  align-self: flex-end;\n",
              "  width: 50%;\n",
              "}\n",
              "\n",
              "#sk-container-id-2 div.sk-parallel-item:last-child::after {\n",
              "  align-self: flex-start;\n",
              "  width: 50%;\n",
              "}\n",
              "\n",
              "#sk-container-id-2 div.sk-parallel-item:only-child::after {\n",
              "  width: 0;\n",
              "}\n",
              "\n",
              "/* Serial-specific style estimator block */\n",
              "\n",
              "#sk-container-id-2 div.sk-serial {\n",
              "  display: flex;\n",
              "  flex-direction: column;\n",
              "  align-items: center;\n",
              "  background-color: var(--sklearn-color-background);\n",
              "  padding-right: 1em;\n",
              "  padding-left: 1em;\n",
              "}\n",
              "\n",
              "\n",
              "/* Toggleable style: style used for estimator/Pipeline/ColumnTransformer box that is\n",
              "clickable and can be expanded/collapsed.\n",
              "- Pipeline and ColumnTransformer use this feature and define the default style\n",
              "- Estimators will overwrite some part of the style using the `sk-estimator` class\n",
              "*/\n",
              "\n",
              "/* Pipeline and ColumnTransformer style (default) */\n",
              "\n",
              "#sk-container-id-2 div.sk-toggleable {\n",
              "  /* Default theme specific background. It is overwritten whether we have a\n",
              "  specific estimator or a Pipeline/ColumnTransformer */\n",
              "  background-color: var(--sklearn-color-background);\n",
              "}\n",
              "\n",
              "/* Toggleable label */\n",
              "#sk-container-id-2 label.sk-toggleable__label {\n",
              "  cursor: pointer;\n",
              "  display: block;\n",
              "  width: 100%;\n",
              "  margin-bottom: 0;\n",
              "  padding: 0.5em;\n",
              "  box-sizing: border-box;\n",
              "  text-align: center;\n",
              "}\n",
              "\n",
              "#sk-container-id-2 label.sk-toggleable__label-arrow:before {\n",
              "  /* Arrow on the left of the label */\n",
              "  content: \"▸\";\n",
              "  float: left;\n",
              "  margin-right: 0.25em;\n",
              "  color: var(--sklearn-color-icon);\n",
              "}\n",
              "\n",
              "#sk-container-id-2 label.sk-toggleable__label-arrow:hover:before {\n",
              "  color: var(--sklearn-color-text);\n",
              "}\n",
              "\n",
              "/* Toggleable content - dropdown */\n",
              "\n",
              "#sk-container-id-2 div.sk-toggleable__content {\n",
              "  max-height: 0;\n",
              "  max-width: 0;\n",
              "  overflow: hidden;\n",
              "  text-align: left;\n",
              "  /* unfitted */\n",
              "  background-color: var(--sklearn-color-unfitted-level-0);\n",
              "}\n",
              "\n",
              "#sk-container-id-2 div.sk-toggleable__content.fitted {\n",
              "  /* fitted */\n",
              "  background-color: var(--sklearn-color-fitted-level-0);\n",
              "}\n",
              "\n",
              "#sk-container-id-2 div.sk-toggleable__content pre {\n",
              "  margin: 0.2em;\n",
              "  border-radius: 0.25em;\n",
              "  color: var(--sklearn-color-text);\n",
              "  /* unfitted */\n",
              "  background-color: var(--sklearn-color-unfitted-level-0);\n",
              "}\n",
              "\n",
              "#sk-container-id-2 div.sk-toggleable__content.fitted pre {\n",
              "  /* unfitted */\n",
              "  background-color: var(--sklearn-color-fitted-level-0);\n",
              "}\n",
              "\n",
              "#sk-container-id-2 input.sk-toggleable__control:checked~div.sk-toggleable__content {\n",
              "  /* Expand drop-down */\n",
              "  max-height: 200px;\n",
              "  max-width: 100%;\n",
              "  overflow: auto;\n",
              "}\n",
              "\n",
              "#sk-container-id-2 input.sk-toggleable__control:checked~label.sk-toggleable__label-arrow:before {\n",
              "  content: \"▾\";\n",
              "}\n",
              "\n",
              "/* Pipeline/ColumnTransformer-specific style */\n",
              "\n",
              "#sk-container-id-2 div.sk-label input.sk-toggleable__control:checked~label.sk-toggleable__label {\n",
              "  color: var(--sklearn-color-text);\n",
              "  background-color: var(--sklearn-color-unfitted-level-2);\n",
              "}\n",
              "\n",
              "#sk-container-id-2 div.sk-label.fitted input.sk-toggleable__control:checked~label.sk-toggleable__label {\n",
              "  background-color: var(--sklearn-color-fitted-level-2);\n",
              "}\n",
              "\n",
              "/* Estimator-specific style */\n",
              "\n",
              "/* Colorize estimator box */\n",
              "#sk-container-id-2 div.sk-estimator input.sk-toggleable__control:checked~label.sk-toggleable__label {\n",
              "  /* unfitted */\n",
              "  background-color: var(--sklearn-color-unfitted-level-2);\n",
              "}\n",
              "\n",
              "#sk-container-id-2 div.sk-estimator.fitted input.sk-toggleable__control:checked~label.sk-toggleable__label {\n",
              "  /* fitted */\n",
              "  background-color: var(--sklearn-color-fitted-level-2);\n",
              "}\n",
              "\n",
              "#sk-container-id-2 div.sk-label label.sk-toggleable__label,\n",
              "#sk-container-id-2 div.sk-label label {\n",
              "  /* The background is the default theme color */\n",
              "  color: var(--sklearn-color-text-on-default-background);\n",
              "}\n",
              "\n",
              "/* On hover, darken the color of the background */\n",
              "#sk-container-id-2 div.sk-label:hover label.sk-toggleable__label {\n",
              "  color: var(--sklearn-color-text);\n",
              "  background-color: var(--sklearn-color-unfitted-level-2);\n",
              "}\n",
              "\n",
              "/* Label box, darken color on hover, fitted */\n",
              "#sk-container-id-2 div.sk-label.fitted:hover label.sk-toggleable__label.fitted {\n",
              "  color: var(--sklearn-color-text);\n",
              "  background-color: var(--sklearn-color-fitted-level-2);\n",
              "}\n",
              "\n",
              "/* Estimator label */\n",
              "\n",
              "#sk-container-id-2 div.sk-label label {\n",
              "  font-family: monospace;\n",
              "  font-weight: bold;\n",
              "  display: inline-block;\n",
              "  line-height: 1.2em;\n",
              "}\n",
              "\n",
              "#sk-container-id-2 div.sk-label-container {\n",
              "  text-align: center;\n",
              "}\n",
              "\n",
              "/* Estimator-specific */\n",
              "#sk-container-id-2 div.sk-estimator {\n",
              "  font-family: monospace;\n",
              "  border: 1px dotted var(--sklearn-color-border-box);\n",
              "  border-radius: 0.25em;\n",
              "  box-sizing: border-box;\n",
              "  margin-bottom: 0.5em;\n",
              "  /* unfitted */\n",
              "  background-color: var(--sklearn-color-unfitted-level-0);\n",
              "}\n",
              "\n",
              "#sk-container-id-2 div.sk-estimator.fitted {\n",
              "  /* fitted */\n",
              "  background-color: var(--sklearn-color-fitted-level-0);\n",
              "}\n",
              "\n",
              "/* on hover */\n",
              "#sk-container-id-2 div.sk-estimator:hover {\n",
              "  /* unfitted */\n",
              "  background-color: var(--sklearn-color-unfitted-level-2);\n",
              "}\n",
              "\n",
              "#sk-container-id-2 div.sk-estimator.fitted:hover {\n",
              "  /* fitted */\n",
              "  background-color: var(--sklearn-color-fitted-level-2);\n",
              "}\n",
              "\n",
              "/* Specification for estimator info (e.g. \"i\" and \"?\") */\n",
              "\n",
              "/* Common style for \"i\" and \"?\" */\n",
              "\n",
              ".sk-estimator-doc-link,\n",
              "a:link.sk-estimator-doc-link,\n",
              "a:visited.sk-estimator-doc-link {\n",
              "  float: right;\n",
              "  font-size: smaller;\n",
              "  line-height: 1em;\n",
              "  font-family: monospace;\n",
              "  background-color: var(--sklearn-color-background);\n",
              "  border-radius: 1em;\n",
              "  height: 1em;\n",
              "  width: 1em;\n",
              "  text-decoration: none !important;\n",
              "  margin-left: 1ex;\n",
              "  /* unfitted */\n",
              "  border: var(--sklearn-color-unfitted-level-1) 1pt solid;\n",
              "  color: var(--sklearn-color-unfitted-level-1);\n",
              "}\n",
              "\n",
              ".sk-estimator-doc-link.fitted,\n",
              "a:link.sk-estimator-doc-link.fitted,\n",
              "a:visited.sk-estimator-doc-link.fitted {\n",
              "  /* fitted */\n",
              "  border: var(--sklearn-color-fitted-level-1) 1pt solid;\n",
              "  color: var(--sklearn-color-fitted-level-1);\n",
              "}\n",
              "\n",
              "/* On hover */\n",
              "div.sk-estimator:hover .sk-estimator-doc-link:hover,\n",
              ".sk-estimator-doc-link:hover,\n",
              "div.sk-label-container:hover .sk-estimator-doc-link:hover,\n",
              ".sk-estimator-doc-link:hover {\n",
              "  /* unfitted */\n",
              "  background-color: var(--sklearn-color-unfitted-level-3);\n",
              "  color: var(--sklearn-color-background);\n",
              "  text-decoration: none;\n",
              "}\n",
              "\n",
              "div.sk-estimator.fitted:hover .sk-estimator-doc-link.fitted:hover,\n",
              ".sk-estimator-doc-link.fitted:hover,\n",
              "div.sk-label-container:hover .sk-estimator-doc-link.fitted:hover,\n",
              ".sk-estimator-doc-link.fitted:hover {\n",
              "  /* fitted */\n",
              "  background-color: var(--sklearn-color-fitted-level-3);\n",
              "  color: var(--sklearn-color-background);\n",
              "  text-decoration: none;\n",
              "}\n",
              "\n",
              "/* Span, style for the box shown on hovering the info icon */\n",
              ".sk-estimator-doc-link span {\n",
              "  display: none;\n",
              "  z-index: 9999;\n",
              "  position: relative;\n",
              "  font-weight: normal;\n",
              "  right: .2ex;\n",
              "  padding: .5ex;\n",
              "  margin: .5ex;\n",
              "  width: min-content;\n",
              "  min-width: 20ex;\n",
              "  max-width: 50ex;\n",
              "  color: var(--sklearn-color-text);\n",
              "  box-shadow: 2pt 2pt 4pt #999;\n",
              "  /* unfitted */\n",
              "  background: var(--sklearn-color-unfitted-level-0);\n",
              "  border: .5pt solid var(--sklearn-color-unfitted-level-3);\n",
              "}\n",
              "\n",
              ".sk-estimator-doc-link.fitted span {\n",
              "  /* fitted */\n",
              "  background: var(--sklearn-color-fitted-level-0);\n",
              "  border: var(--sklearn-color-fitted-level-3);\n",
              "}\n",
              "\n",
              ".sk-estimator-doc-link:hover span {\n",
              "  display: block;\n",
              "}\n",
              "\n",
              "/* \"?\"-specific style due to the `<a>` HTML tag */\n",
              "\n",
              "#sk-container-id-2 a.estimator_doc_link {\n",
              "  float: right;\n",
              "  font-size: 1rem;\n",
              "  line-height: 1em;\n",
              "  font-family: monospace;\n",
              "  background-color: var(--sklearn-color-background);\n",
              "  border-radius: 1rem;\n",
              "  height: 1rem;\n",
              "  width: 1rem;\n",
              "  text-decoration: none;\n",
              "  /* unfitted */\n",
              "  color: var(--sklearn-color-unfitted-level-1);\n",
              "  border: var(--sklearn-color-unfitted-level-1) 1pt solid;\n",
              "}\n",
              "\n",
              "#sk-container-id-2 a.estimator_doc_link.fitted {\n",
              "  /* fitted */\n",
              "  border: var(--sklearn-color-fitted-level-1) 1pt solid;\n",
              "  color: var(--sklearn-color-fitted-level-1);\n",
              "}\n",
              "\n",
              "/* On hover */\n",
              "#sk-container-id-2 a.estimator_doc_link:hover {\n",
              "  /* unfitted */\n",
              "  background-color: var(--sklearn-color-unfitted-level-3);\n",
              "  color: var(--sklearn-color-background);\n",
              "  text-decoration: none;\n",
              "}\n",
              "\n",
              "#sk-container-id-2 a.estimator_doc_link.fitted:hover {\n",
              "  /* fitted */\n",
              "  background-color: var(--sklearn-color-fitted-level-3);\n",
              "}\n",
              "</style><div id=\"sk-container-id-2\" class=\"sk-top-container\"><div class=\"sk-text-repr-fallback\"><pre>XGBClassifier(base_score=None, booster=&#x27;gbtree&#x27;, callbacks=None,\n",
              "              colsample_bylevel=None, colsample_bynode=None, colsample_bytree=1,\n",
              "              device=None, early_stopping_rounds=None, enable_categorical=False,\n",
              "              eval_metric=[&#x27;error&#x27;, &#x27;logloss&#x27;, &#x27;logloss&#x27;], feature_types=None,\n",
              "              gamma=6, grow_policy=None, importance_type=None,\n",
              "              interaction_constraints=None, learning_rate=0.01, max_bin=None,\n",
              "              max_cat_threshold=None, max_cat_to_onehot=None,\n",
              "              max_delta_step=None, max_depth=2, max_leaves=None,\n",
              "              min_child_weight=None, missing=nan, monotone_constraints=None,\n",
              "              multi_strategy=None, n_estimators=150, n_jobs=None,\n",
              "              num_parallel_tree=None, random_state=1, ...)</pre><b>In a Jupyter environment, please rerun this cell to show the HTML representation or trust the notebook. <br />On GitHub, the HTML representation is unable to render, please try loading this page with nbviewer.org.</b></div><div class=\"sk-container\" hidden><div class=\"sk-item\"><div class=\"sk-estimator fitted sk-toggleable\"><input class=\"sk-toggleable__control sk-hidden--visually\" id=\"sk-estimator-id-2\" type=\"checkbox\" checked><label for=\"sk-estimator-id-2\" class=\"sk-toggleable__label fitted sk-toggleable__label-arrow fitted\">&nbsp;XGBClassifier<span class=\"sk-estimator-doc-link fitted\">i<span>Fitted</span></span></label><div class=\"sk-toggleable__content fitted\"><pre>XGBClassifier(base_score=None, booster=&#x27;gbtree&#x27;, callbacks=None,\n",
              "              colsample_bylevel=None, colsample_bynode=None, colsample_bytree=1,\n",
              "              device=None, early_stopping_rounds=None, enable_categorical=False,\n",
              "              eval_metric=[&#x27;error&#x27;, &#x27;logloss&#x27;, &#x27;logloss&#x27;], feature_types=None,\n",
              "              gamma=6, grow_policy=None, importance_type=None,\n",
              "              interaction_constraints=None, learning_rate=0.01, max_bin=None,\n",
              "              max_cat_threshold=None, max_cat_to_onehot=None,\n",
              "              max_delta_step=None, max_depth=2, max_leaves=None,\n",
              "              min_child_weight=None, missing=nan, monotone_constraints=None,\n",
              "              multi_strategy=None, n_estimators=150, n_jobs=None,\n",
              "              num_parallel_tree=None, random_state=1, ...)</pre></div> </div></div></div></div>"
            ]
          },
          "metadata": {},
          "execution_count": 31
        }
      ],
      "source": [
        "# Fit Model\n",
        "eval_set = [(X_train, y_train), (X_test, y_test)]\n",
        "classifier.fit(X_train, y_train, eval_set=eval_set, verbose=False)"
      ]
    },
    {
      "cell_type": "markdown",
      "id": "90fc92aa",
      "metadata": {
        "id": "90fc92aa"
      },
      "source": [
        "### Make Predictions"
      ]
    },
    {
      "cell_type": "code",
      "execution_count": 32,
      "id": "cccfe06c",
      "metadata": {
        "colab": {
          "base_uri": "https://localhost:8080/"
        },
        "id": "cccfe06c",
        "outputId": "5ced13ff-e415-4e61-ff6d-c02b5e919471"
      },
      "outputs": [
        {
          "output_type": "stream",
          "name": "stdout",
          "text": [
            "Preds Training Data: \n",
            " [1 0 0 0 0 0 0 0 0 0]\n",
            "Preds Probabilities Training Data: \n",
            " [[0.32007617 0.67992383]\n",
            " [0.5268138  0.4731862 ]\n",
            " [0.6446654  0.35533458]]\n"
          ]
        }
      ],
      "source": [
        "# Get Predictions Training\n",
        "train_yhat = classifier.predict(X_train)\n",
        "train_yhat_proba = classifier.predict_proba(X_train)\n",
        "print(\"Preds Training Data: \\n\", train_yhat[:10])\n",
        "print(\"Preds Probabilities Training Data: \\n\", train_yhat_proba[:3])"
      ]
    },
    {
      "cell_type": "code",
      "execution_count": 33,
      "id": "049133dd",
      "metadata": {
        "colab": {
          "base_uri": "https://localhost:8080/"
        },
        "id": "049133dd",
        "outputId": "0c46ecaa-2fc5-406c-d65b-de05d6121f56"
      },
      "outputs": [
        {
          "output_type": "stream",
          "name": "stdout",
          "text": [
            "Preds Test Data: \n",
            " [0 0 0 0 0 0 0 0 0 0]\n",
            "Preds Probabilities Training Data: \n",
            " [[0.52922773 0.47077227]\n",
            " [0.63944983 0.36055017]\n",
            " [0.64347243 0.35652757]]\n"
          ]
        }
      ],
      "source": [
        "# Get Predictions Test\n",
        "test_yhat = classifier.predict(X_test)\n",
        "test_yhat_proba = classifier.predict_proba(X_test)\n",
        "print(\"Preds Test Data: \\n\", test_yhat[:10])\n",
        "print(\"Preds Probabilities Training Data: \\n\", test_yhat_proba[:3])"
      ]
    },
    {
      "cell_type": "code",
      "execution_count": 34,
      "id": "b1768565",
      "metadata": {
        "id": "b1768565"
      },
      "outputs": [],
      "source": [
        "# Set K-Fold Cross Validation Levels\n",
        "cv = RepeatedStratifiedKFold(n_splits=5, n_repeats=1, random_state=1)"
      ]
    },
    {
      "cell_type": "code",
      "execution_count": 35,
      "id": "2460f01d",
      "metadata": {
        "id": "2460f01d"
      },
      "outputs": [],
      "source": [
        "# Training Results\n",
        "train_results = cross_val_score(classifier, X_train, y_train, scoring=scoring, cv=cv, n_jobs=1)"
      ]
    },
    {
      "cell_type": "markdown",
      "id": "21a3a789",
      "metadata": {
        "id": "21a3a789"
      },
      "source": [
        "### Evaluation Metrics  - Loss and Overfitting"
      ]
    },
    {
      "cell_type": "code",
      "execution_count": 38,
      "id": "2c61d3a6",
      "metadata": {
        "id": "2c61d3a6"
      },
      "outputs": [],
      "source": [
        "# Retrieve performance metrics\n",
        "results = classifier.evals_result()\n",
        "epochs = len(results[\"validation_0\"][\"error\"])\n",
        "x_axis = range(0, epochs)"
      ]
    },
    {
      "cell_type": "code",
      "execution_count": 39,
      "id": "3f38b97e",
      "metadata": {
        "colab": {
          "base_uri": "https://localhost:8080/",
          "height": 452
        },
        "id": "3f38b97e",
        "outputId": "234c757f-84d3-487b-f915-0678b8e4b932"
      },
      "outputs": [
        {
          "output_type": "display_data",
          "data": {
            "text/plain": [
              "<Figure size 640x480 with 1 Axes>"
            ],
            "image/png": "[encoded data removed]"
          },
          "metadata": {}
        }
      ],
      "source": [
        "# Plot Log Loss\n",
        "fig, ax = plt.subplots()\n",
        "ax.plot(x_axis, results[\"validation_0\"][\"logloss\"], label=\"Train\")\n",
        "ax.plot(x_axis, results[\"validation_1\"][\"logloss\"], label=\"Test\")\n",
        "ax.legend()\n",
        "plt.ylabel(\"Logloss\")\n",
        "plt.title(\"XGB Logloss\")\n",
        "plt.show()"
      ]
    },
    {
      "cell_type": "code",
      "execution_count": 40,
      "id": "1db8bef1",
      "metadata": {
        "colab": {
          "base_uri": "https://localhost:8080/",
          "height": 452
        },
        "id": "1db8bef1",
        "outputId": "b9f9603b-ee17-4dd2-ff37-dc315951c292"
      },
      "outputs": [
        {
          "output_type": "display_data",
          "data": {
            "text/plain": [
              "<Figure size 640x480 with 1 Axes>"
            ],
            "image/png": "[encoded data removed]"
          },
          "metadata": {}
        }
      ],
      "source": [
        "# Plot Classification Error\n",
        "fig, ax = plt.subplots()\n",
        "ax.plot(x_axis, results[\"validation_0\"][\"error\"], label=\"Train\")\n",
        "ax.plot(x_axis, results[\"validation_1\"][\"error\"], label=\"Test\")\n",
        "ax.legend()\n",
        "plt.ylabel(\"Error\")\n",
        "plt.title(\"XGB Error\")\n",
        "plt.show()"
      ]
    },
    {
      "cell_type": "markdown",
      "id": "a8c8e014",
      "metadata": {
        "id": "a8c8e014"
      },
      "source": [
        "### Evaluation Metrics - ROC Curve"
      ]
    },
    {
      "cell_type": "code",
      "execution_count": 41,
      "id": "f80a8a22",
      "metadata": {
        "colab": {
          "base_uri": "https://localhost:8080/",
          "height": 468
        },
        "id": "f80a8a22",
        "outputId": "ebad03cc-49c7-4e24-e773-4d4c1f5ae6c7"
      },
      "outputs": [
        {
          "output_type": "execute_result",
          "data": {
            "text/plain": [
              "<sklearn.metrics._plot.roc_curve.RocCurveDisplay at 0x7a48bd517190>"
            ]
          },
          "metadata": {},
          "execution_count": 41
        },
        {
          "output_type": "display_data",
          "data": {
            "text/plain": [
              "<Figure size 640x480 with 1 Axes>"
            ],
            "image/png": "[encoded data removed]"
          },
          "metadata": {}
        }
      ],
      "source": [
        "# Plot Training ROC Curve\n",
        "RocCurveDisplay.from_estimator(classifier, X_train, y_train)"
      ]
    },
    {
      "cell_type": "code",
      "execution_count": 42,
      "id": "ae58cfcc",
      "metadata": {
        "colab": {
          "base_uri": "https://localhost:8080/",
          "height": 468
        },
        "id": "ae58cfcc",
        "outputId": "3850bb74-90cf-43a9-98f0-04279f66ecb2"
      },
      "outputs": [
        {
          "output_type": "execute_result",
          "data": {
            "text/plain": [
              "<sklearn.metrics._plot.roc_curve.RocCurveDisplay at 0x7a48bd596680>"
            ]
          },
          "metadata": {},
          "execution_count": 42
        },
        {
          "output_type": "display_data",
          "data": {
            "text/plain": [
              "<Figure size 640x480 with 1 Axes>"
            ],
            "image/png": "[encoded data removed]"
          },
          "metadata": {}
        }
      ],
      "source": [
        "# Plot Test ROC Curve\n",
        "RocCurveDisplay.from_estimator(classifier, X_test, y_test)"
      ]
    },
    {
      "cell_type": "markdown",
      "id": "183438d3",
      "metadata": {
        "id": "183438d3"
      },
      "source": [
        "### Performance Evaluation Comparison"
      ]
    },
    {
      "cell_type": "code",
      "execution_count": 43,
      "id": "c5c8c2f3",
      "metadata": {
        "id": "c5c8c2f3"
      },
      "outputs": [],
      "source": [
        "# Set K-Fold Cross Validation Levels\n",
        "cv = RepeatedStratifiedKFold(n_splits=5, n_repeats=1, random_state=1)"
      ]
    },
    {
      "cell_type": "code",
      "execution_count": 44,
      "id": "48e17a86",
      "metadata": {
        "id": "48e17a86"
      },
      "outputs": [],
      "source": [
        "# Training and Test Results\n",
        "train_results = cross_val_score(classifier, X_train, y_train, scoring=scoring, cv=cv, n_jobs=-1)\n",
        "test_results = cross_val_score(classifier, X_test, y_test, scoring=scoring, cv=cv, n_jobs=-1)"
      ]
    },
    {
      "cell_type": "code",
      "execution_count": 45,
      "id": "0408fa59",
      "metadata": {
        "colab": {
          "base_uri": "https://localhost:8080/"
        },
        "id": "0408fa59",
        "outputId": "4b507f21-e97e-42a0-cb15-53a6fc337227"
      },
      "outputs": [
        {
          "output_type": "stream",
          "name": "stdout",
          "text": [
            "TRAIN:\n",
            "Average Acc K-Fold 0.69\n",
            "Std Dev K-Fold 0.05\n",
            "Precision Score 0 0.664\n",
            "Precision Score 1 0.76\n",
            "----- ----- ----- ----- ----- ----- -----\n",
            "TEST:\n",
            "Average Acc K-Fold 0.58\n",
            "Std Dev K-Fold 0.1\n",
            "Precision Score 0 0.617\n",
            "Precision Score 1 0.554\n",
            "\n"
          ]
        }
      ],
      "source": [
        "# Comparison of Results\n",
        "print(\"TRAIN:\")\n",
        "print(\"Average Acc K-Fold\", round(train_results.mean(), 2))\n",
        "print(\"Std Dev K-Fold\", round(train_results.std(), 2))\n",
        "print(\"Precision Score 0\", round(precision_score(y_train, train_yhat, average=None)[0], 3))\n",
        "print(\"Precision Score 1\", round(precision_score(y_train, train_yhat, average=None)[1], 3))\n",
        "print(\"----- ----- ----- ----- ----- ----- -----\")\n",
        "print(\"TEST:\")\n",
        "print(\"Average Acc K-Fold\", round(test_results.mean(), 2))\n",
        "print(\"Std Dev K-Fold\", round(test_results.std(), 2))\n",
        "print(\"Precision Score 0\", round(precision_score(y_test, test_yhat, average=None)[0], 3))\n",
        "print(\"Precision Score 1\", round(precision_score(y_test, test_yhat, average=None)[1], 3))\n",
        "print(\"\")"
      ]
    },
    {
      "cell_type": "markdown",
      "id": "69d8b2bf",
      "metadata": {
        "id": "69d8b2bf"
      },
      "source": [
        "### Evaluation Metrics - Summary Report"
      ]
    },
    {
      "cell_type": "code",
      "execution_count": 46,
      "id": "1afce0b9",
      "metadata": {
        "colab": {
          "base_uri": "https://localhost:8080/"
        },
        "id": "1afce0b9",
        "outputId": "77243b18-d9b4-48b5-8b76-159eeaa2499a"
      },
      "outputs": [
        {
          "output_type": "stream",
          "name": "stdout",
          "text": [
            "              precision    recall  f1-score   support\n",
            "\n",
            "         0.0       0.66      0.94      0.78      1230\n",
            "         1.0       0.76      0.30      0.43       832\n",
            "\n",
            "    accuracy                           0.68      2062\n",
            "   macro avg       0.71      0.62      0.60      2062\n",
            "weighted avg       0.70      0.68      0.64      2062\n",
            "\n"
          ]
        }
      ],
      "source": [
        "# Show summary report - Training\n",
        "print(classification_report(y_train, train_yhat))"
      ]
    },
    {
      "cell_type": "code",
      "execution_count": 47,
      "id": "01f81ef8",
      "metadata": {
        "colab": {
          "base_uri": "https://localhost:8080/"
        },
        "id": "01f81ef8",
        "outputId": "4a874f06-5038-4c25-870d-63d1978ddcd2"
      },
      "outputs": [
        {
          "output_type": "stream",
          "name": "stdout",
          "text": [
            "              precision    recall  f1-score   support\n",
            "\n",
            "         0.0       0.62      0.85      0.71       515\n",
            "         1.0       0.55      0.27      0.36       369\n",
            "\n",
            "    accuracy                           0.60       884\n",
            "   macro avg       0.59      0.56      0.54       884\n",
            "weighted avg       0.59      0.60      0.57       884\n",
            "\n"
          ]
        }
      ],
      "source": [
        "# Show summary report - Test\n",
        "print(classification_report(y_test, test_yhat))"
      ]
    },
    {
      "cell_type": "markdown",
      "id": "f6af4753",
      "metadata": {
        "id": "f6af4753"
      },
      "source": [
        "### Performance Evaluation - Confusion Matrix"
      ]
    },
    {
      "cell_type": "code",
      "execution_count": 48,
      "id": "bf851feb",
      "metadata": {
        "colab": {
          "base_uri": "https://localhost:8080/",
          "height": 466
        },
        "id": "bf851feb",
        "outputId": "f0473017-8d74-4799-dfff-999a42778c9f"
      },
      "outputs": [
        {
          "output_type": "execute_result",
          "data": {
            "text/plain": [
              "<sklearn.metrics._plot.confusion_matrix.ConfusionMatrixDisplay at 0x7a48bd303070>"
            ]
          },
          "metadata": {},
          "execution_count": 48
        },
        {
          "output_type": "display_data",
          "data": {
            "text/plain": [
              "<Figure size 640x480 with 2 Axes>"
            ],
            "image/png": "[encoded data removed]"
          },
          "metadata": {}
        }
      ],
      "source": [
        "# Training Confusion Matrix\n",
        "cm_train = confusion_matrix(y_train, train_yhat)\n",
        "ConfusionMatrixDisplay(cm_train).plot()"
      ]
    },
    {
      "cell_type": "code",
      "execution_count": 49,
      "id": "da09b2cd",
      "metadata": {
        "colab": {
          "base_uri": "https://localhost:8080/",
          "height": 466
        },
        "id": "da09b2cd",
        "outputId": "d15052ae-0e7d-4065-e0ff-ea458a14d375"
      },
      "outputs": [
        {
          "output_type": "execute_result",
          "data": {
            "text/plain": [
              "<sklearn.metrics._plot.confusion_matrix.ConfusionMatrixDisplay at 0x7a48bd594e80>"
            ]
          },
          "metadata": {},
          "execution_count": 49
        },
        {
          "output_type": "display_data",
          "data": {
            "text/plain": [
              "<Figure size 640x480 with 2 Axes>"
            ],
            "image/png": "[encoded data removed]"
          },
          "metadata": {}
        }
      ],
      "source": [
        "# Test Confusion Matrix\n",
        "cm_test = confusion_matrix(y_test, test_yhat)\n",
        "ConfusionMatrixDisplay(cm_test).plot()"
      ]
    },
    {
      "cell_type": "markdown",
      "id": "b87fc129",
      "metadata": {
        "id": "b87fc129"
      },
      "source": [
        "### Feature Importance"
      ]
    },
    {
      "cell_type": "code",
      "execution_count": 50,
      "id": "664c7711",
      "metadata": {
        "colab": {
          "base_uri": "https://localhost:8080/",
          "height": 380
        },
        "id": "664c7711",
        "outputId": "b8ec5361-94cb-43e8-c21e-3e09e558ddc3"
      },
      "outputs": [
        {
          "output_type": "display_data",
          "data": {
            "text/plain": [
              "<Figure size 2200x500 with 1 Axes>"
            ],
            "image/png": "[encoded data removed]"
          },
          "metadata": {}
        }
      ],
      "source": [
        "# Plot Feature Importances\n",
        "fig = plt.figure(figsize=(22, 5))\n",
        "importance_labels = X.columns\n",
        "importance_features = classifier.feature_importances_\n",
        "plt.bar(importance_labels, importance_features)\n",
        "plt.show()"
      ]
    },
    {
      "cell_type": "markdown",
      "id": "5e508674",
      "metadata": {
        "id": "5e508674"
      },
      "source": [
        "### XGBOOST TREE"
      ]
    },
    {
      "cell_type": "code",
      "execution_count": 51,
      "id": "9d1295cc",
      "metadata": {
        "colab": {
          "base_uri": "https://localhost:8080/",
          "height": 486
        },
        "id": "9d1295cc",
        "outputId": "f1d2842c-8a54-477d-bacb-1d204774219a"
      },
      "outputs": [
        {
          "output_type": "execute_result",
          "data": {
            "text/plain": [
              "<Axes: >"
            ]
          },
          "metadata": {},
          "execution_count": 51
        },
        {
          "output_type": "display_data",
          "data": {
            "text/plain": [
              "<Figure size 8000x5000 with 1 Axes>"
            ],
            "image/png": "[encoded data removed]"
          },
          "metadata": {}
        }
      ],
      "source": [
        "rcParams[\"figure.figsize\"] = 80, 50\n",
        "plot_tree(classifier)"
      ]
    }
  ],
  "metadata": {
    "kernelspec": {
      "display_name": "Python 3 (ipykernel)",
      "language": "python",
      "name": "python3"
    },
    "language_info": {
      "codemirror_mode": {
        "name": "ipython",
        "version": 3
      },
      "file_extension": ".py",
      "mimetype": "text/x-python",
      "name": "python",
      "nbconvert_exporter": "python",
      "pygments_lexer": "ipython3",
      "version": "3.9.6"
    },
    "colab": {
      "provenance": []
    }
  },
  "nbformat": 4,
  "nbformat_minor": 5
}